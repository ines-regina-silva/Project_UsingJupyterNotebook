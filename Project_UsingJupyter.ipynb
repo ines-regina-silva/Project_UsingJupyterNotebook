{
 "cells": [
  {
   "cell_type": "markdown",
   "id": "f0055ca6-946c-4b13-ab45-ca9a14f4dfdc",
   "metadata": {},
   "source": [
    "# Title: Project Using Jupyter"
   ]
  },
  {
   "cell_type": "markdown",
   "id": "62ea91c8-1a95-4be1-93ba-5a32a995ff03",
   "metadata": {},
   "source": [
    "## Introduction"
   ]
  },
  {
   "cell_type": "markdown",
   "id": "14c0ac7b-6f32-4c13-a2a0-d3c7c1565503",
   "metadata": {},
   "source": [
    "### Data Science Languages\n",
    "- Python  \n",
    "- R  \n",
    "- SQL  \n",
    "- Julia  \n",
    "- Scala  \n",
    "- Java  \n",
    "- C++"
   ]
  },
  {
   "cell_type": "markdown",
   "id": "cc7f0e9f-fe86-4dd0-90ab-141dfdc6bd46",
   "metadata": {},
   "source": [
    "### Data Science Libraries\n",
    "- NumPy  \n",
    "- Pandas  \n",
    "- Matplotlib  \n",
    "- Seaborn  \n",
    "- SciPy  \n",
    "- Scikit-learn  \n",
    "- TensorFlow  \n",
    "- Keras  \n",
    "- PyTorch  \n"
   ]
  },
  {
   "cell_type": "markdown",
   "id": "58255796-49e0-4c58-bc8a-f6ada4b20cce",
   "metadata": {
    "jp-MarkdownHeadingCollapsed": true
   },
   "source": [
    "### Data Science Tools\n",
    "\n",
    "| Tool            | Category             |\n",
    "|-----------------|----------------------|\n",
    "| Jupyter Notebook | Interactive Development |\n",
    "| RStudio         | Statistical Computing |\n",
    "| Apache Spark    | Big Data Processing  |\n",
    "| TensorFlow      | Machine Learning     |\n",
    "| RapidMiner      | Data Mining          |\n",
    "| Tableau         | Data Visualization   |\n"
   ]
  },
  {
   "cell_type": "markdown",
   "id": "fd3aa692-65aa-45c3-8d0f-d4459f569b6c",
   "metadata": {},
   "source": [
    "## Arithmetic Expression Examples\n",
    "\n",
    "In this section, we will demonstrate basic arithmetic expressions such as addition, subtraction, multiplication, and division.\n"
   ]
  },
  {
   "cell_type": "code",
   "execution_count": 19,
   "id": "01a176e8-fcae-4a64-b659-9bc3bf658c1a",
   "metadata": {},
   "outputs": [
    {
     "name": "stdout",
     "output_type": "stream",
     "text": [
      "Multiplication Result: 20\n",
      "Addition Result: 9\n"
     ]
    }
   ],
   "source": [
    "# Multiplication and addition examples\n",
    "\n",
    "# Multiply two numbers\n",
    "multiply_result = 5 * 4\n",
    "\n",
    "# Add two numbers\n",
    "add_result = 5 + 4\n",
    "\n",
    "print(\"Multiplication Result:\", multiply_result)\n",
    "print(\"Addition Result:\", add_result)"
   ]
  },
  {
   "cell_type": "code",
   "execution_count": 21,
   "id": "ae551188-873d-40bb-80c4-44e72c09ab0a",
   "metadata": {},
   "outputs": [
    {
     "name": "stdout",
     "output_type": "stream",
     "text": [
      "150 minutes is equal to 2.5 hours\n"
     ]
    }
   ],
   "source": [
    "# Convert minutes to hours\n",
    "\n",
    "minutes = 150  # you can change this value\n",
    "hours = minutes / 60\n",
    "\n",
    "print(minutes, \"minutes is equal to\", hours, \"hours\")"
   ]
  },
  {
   "cell_type": "markdown",
   "id": "05d9bea7-4e16-4d93-aa1a-7fda0618d79d",
   "metadata": {},
   "source": [
    "### Objectives\n",
    "\n",
    "- Understand key concepts of Data Science  \n",
    "- Learn commonly used languages and libraries  \n",
    "- Explore popular tools and environments  \n",
    "- Practice basic arithmetic operations in Python  \n",
    "- Apply simple data manipulation techniques  "
   ]
  },
  {
   "cell_type": "markdown",
   "id": "bdc04ef5-13f6-463d-8e21-95111cf6e51a",
   "metadata": {},
   "source": [
    "### Author\n",
    "Inês Regina Moreira da Silva"
   ]
  },
  {
   "cell_type": "code",
   "execution_count": null,
   "id": "b2d0291c-8241-4cf9-866a-19a2031146fc",
   "metadata": {},
   "outputs": [],
   "source": []
  }
 ],
 "metadata": {
  "kernelspec": {
   "display_name": "Python 3 (ipykernel)",
   "language": "python",
   "name": "python3"
  },
  "language_info": {
   "codemirror_mode": {
    "name": "ipython",
    "version": 3
   },
   "file_extension": ".py",
   "mimetype": "text/x-python",
   "name": "python",
   "nbconvert_exporter": "python",
   "pygments_lexer": "ipython3",
   "version": "3.12.7"
  }
 },
 "nbformat": 4,
 "nbformat_minor": 5
}
